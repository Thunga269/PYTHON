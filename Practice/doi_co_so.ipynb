{
 "cells": [
  {
   "cell_type": "markdown",
   "metadata": {},
   "source": [
    "Đổi xâu nhị phân (CƠ SỐ 2) thành 1 số ở hệ cơ số b"
   ]
  },
  {
   "cell_type": "code",
   "execution_count": 1,
   "metadata": {},
   "outputs": [],
   "source": [
    "#B1: Chuyền xâu nhị phân -> số\n",
    "def chuyen_SO(s):\n",
    "    so = 0\n",
    "    for i in range(len(s)):\n",
    "        so += int(s[i])*(2**(len(s)-1-i))\n",
    "    return so"
   ]
  },
  {
   "cell_type": "code",
   "execution_count": 5,
   "metadata": {},
   "outputs": [],
   "source": [
    "#B2 : chuyển số n theo cơ số b\n",
    "def chuyen_CO_SO(n, b):\n",
    "    du = n%b\n",
    "    kq = \"\"\n",
    "    while(n>0):\n",
    "        kq = str(du)+kq\n",
    "        n = n//b\n",
    "        du = n%b\n",
    "    return kq\n",
    "    "
   ]
  },
  {
   "cell_type": "code",
   "execution_count": 8,
   "metadata": {},
   "outputs": [
    {
     "data": {
      "text/plain": [
       "'224225'"
      ]
     },
     "execution_count": 8,
     "metadata": {},
     "output_type": "execute_result"
    }
   ],
   "source": [
    "b = int(input())\n",
    "s = input()\n",
    "so = chuyen_SO(s)\n",
    "kq = chuyen_CO_SO(so, b)\n",
    "kq"
   ]
  },
  {
   "cell_type": "markdown",
   "metadata": {},
   "source": [
    "CƠ SỐ 4"
   ]
  },
  {
   "cell_type": "code",
   "execution_count": null,
   "metadata": {},
   "outputs": [],
   "source": [
    "s = input()\n",
    "so = chuyen_SO(s)\n",
    "kq = chuyen_CO_SO(so, b)\n",
    "kq"
   ]
  },
  {
   "cell_type": "code",
   "execution_count": null,
   "metadata": {},
   "outputs": [],
   "source": [
    "t = int(input())\n",
    "import math\n",
    "def chuyen(n):\n",
    "    so = 0\n",
    "    for i in range(len(n)):\n",
    "        so = so+int(n[i])*(2**(len(n)-1-i))\n",
    "    return int(so)\n",
    "\n",
    "def check2(n, b):\n",
    "    du = n%b\n",
    "    kq = \"\"\n",
    "    while(n>0):\n",
    "        kq = str(du)+kq\n",
    "        n //= b\n",
    "        du = n%b\n",
    "    return kq\n",
    "    \n",
    "for i in range(t):\n",
    "    b = int(input())\n",
    "    n = input()\n",
    "    if(b==2):\n",
    "        print(n)\n",
    "    else:\n",
    "        so = chuyen(n)\n",
    "        if b==4:\n",
    "            kq = check2(int(so), int(b))\n",
    "            print(kq)\n",
    "        if b==8: print(oct(so)[2:])\n",
    "        if b==16: print(hex(so)[2:].upper())"
   ]
  },
  {
   "cell_type": "markdown",
   "metadata": {},
   "source": [
    "Chuyển từ hệ cơ số 2 -> 8"
   ]
  },
  {
   "cell_type": "code",
   "execution_count": 1,
   "metadata": {},
   "outputs": [
    {
     "name": "stdout",
     "output_type": "stream",
     "text": [
      "314\n"
     ]
    }
   ],
   "source": [
    "print(oct(int(input(), 2))[2:]) #Chuyển từ hệ cơ số 2 -> 8"
   ]
  },
  {
   "cell_type": "code",
   "execution_count": 2,
   "metadata": {},
   "outputs": [
    {
     "name": "stdout",
     "output_type": "stream",
     "text": [
      "2322\n"
     ]
    }
   ],
   "source": [
    "print(oct(1234)[2:]) # chuyển từ cơ số 10 -> cơ số 8"
   ]
  },
  {
   "cell_type": "markdown",
   "metadata": {},
   "source": [
    "Chuyển từ cơ số 10 -> 16"
   ]
  },
  {
   "cell_type": "code",
   "execution_count": 4,
   "metadata": {},
   "outputs": [
    {
     "name": "stdout",
     "output_type": "stream",
     "text": [
      "4D2\n"
     ]
    }
   ],
   "source": [
    "print(hex(1234)[2:].upper()) #Chuyển từ cơ số 10 -> 16"
   ]
  }
 ],
 "metadata": {
  "kernelspec": {
   "display_name": "Python 3.10.0 64-bit",
   "language": "python",
   "name": "python3"
  },
  "language_info": {
   "codemirror_mode": {
    "name": "ipython",
    "version": 3
   },
   "file_extension": ".py",
   "mimetype": "text/x-python",
   "name": "python",
   "nbconvert_exporter": "python",
   "pygments_lexer": "ipython3",
   "version": "3.10.0 (tags/v3.10.0:b494f59, Oct  4 2021, 19:00:18) [MSC v.1929 64 bit (AMD64)]"
  },
  "orig_nbformat": 4,
  "vscode": {
   "interpreter": {
    "hash": "27f6fea6f47ae512550f0b8facdbd035a93e1dd89633f7bf2dd00a2502c71d0d"
   }
  }
 },
 "nbformat": 4,
 "nbformat_minor": 2
}
