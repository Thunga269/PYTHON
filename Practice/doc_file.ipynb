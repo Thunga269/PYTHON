{
 "cells": [
  {
   "cell_type": "code",
   "execution_count": 11,
   "metadata": {},
   "outputs": [
    {
     "name": "stdout",
     "output_type": "stream",
     "text": [
      "12 3 4 5 6 7\n",
      "\n",
      "Aaa 1 1 Bbb XXX yyy 5 5\n",
      "\n",
      "999999999999999999999999\n",
      "\n",
      "9\n"
     ]
    }
   ],
   "source": [
    "f1 = open(\".\\VANBAN.in\", \"r\")\n",
    "for i in f1.readlines():\n",
    "    print(i)"
   ]
  },
  {
   "attachments": {},
   "cell_type": "markdown",
   "metadata": {},
   "source": [
    "CSV"
   ]
  },
  {
   "cell_type": "code",
   "execution_count": 3,
   "metadata": {},
   "outputs": [],
   "source": [
    "import csv"
   ]
  },
  {
   "cell_type": "code",
   "execution_count": 57,
   "metadata": {},
   "outputs": [
    {
     "name": "stdout",
     "output_type": "stream",
     "text": [
      "['sepal_length', 'sepal_width', 'petal_length', 'petal_width', 'species']\n",
      "['5.1', '3.5', '1.4', '0.2', 'Setosa']\n",
      "['4.9', '3', '1.4', '0.2', 'Setosa']\n",
      "['4.7', '3.2', '1.3', '0.2', 'Setosa']\n",
      "['4.6', '3.1', '1.5', '0.2', 'Setosa']\n",
      "['5', '3.6', '1.4', '0.2', 'virginica']\n",
      "['5.4', '3.9', '1.7', '0.4', 'virginica']\n",
      "['4.6', '3.4', '1.4', '0.3', 'virginica']\n",
      "['5', '3.4', '1.5', '0.2', 'virginica']\n",
      "['4.4', '2.9', '1.4', '0.2', 'versicolor']\n",
      "['4.9', '3.1', '1.5', '0.1', 'versicolor']\n",
      "['5.4', '3.7', '1.5', '0.2', 'versicolor']\n",
      "['4.8', '3.4', '1.6', '0.2', 'versicolor']\n",
      "['4.8', '3', '1.4', '0.1', 'Setosa']\n"
     ]
    }
   ],
   "source": [
    "with open(\".\\iris.csv\") as f:\n",
    "    # data = csv.DictReader(f)\n",
    "    data = csv.reader(f)\n",
    "    for i in data:\n",
    "        print(i)"
   ]
  },
  {
   "attachments": {},
   "cell_type": "markdown",
   "metadata": {},
   "source": [
    "In ra chiều dài TB của sepal.length khi biết tên loài hoa species và petal_length"
   ]
  },
  {
   "cell_type": "code",
   "execution_count": 54,
   "metadata": {},
   "outputs": [
    {
     "name": "stdout",
     "output_type": "stream",
     "text": [
      "Invalid\n"
     ]
    }
   ],
   "source": [
    "with open(\".\\iris.csv\") as f:\n",
    "    data_csv = csv.DictReader(f)\n",
    "    # data = csv.reader(f)\n",
    "    for i in data_csv:\n",
    "        if i['species']=='Setosa' and i['sepal_length']=='5.7':\n",
    "            print( i['petal_length'])\n",
    "        else:\n",
    "            print(\"Invalid\")\n",
    "            break"
   ]
  },
  {
   "attachments": {},
   "cell_type": "markdown",
   "metadata": {},
   "source": [
    "Tính tích vô hướng 2 vector\n",
    "Mỗi chiều dài của 1 loài cánh hoa chính là 1 vector\n",
    "Input:\n",
    "Setosa\n",
    "sepal_length petal_length"
   ]
  },
  {
   "cell_type": "code",
   "execution_count": 45,
   "metadata": {},
   "outputs": [
    {
     "name": "stdout",
     "output_type": "stream",
     "text": [
      "33.73\n"
     ]
    }
   ],
   "source": [
    "with open(\".\\iris.csv\") as f:\n",
    "    data_csv = csv.DictReader(f)\n",
    "    # data = csv.reader(f)\n",
    "    sum = 0.0\n",
    "    for i in data_csv:\n",
    "        if i['species']=='Setosa':\n",
    "            sum += float(i['sepal_length'])* float(i['petal_length'])\n",
    "    print(sum)"
   ]
  },
  {
   "attachments": {},
   "cell_type": "markdown",
   "metadata": {},
   "source": [
    "sum, avg, max, min"
   ]
  },
  {
   "cell_type": "code",
   "execution_count": null,
   "metadata": {},
   "outputs": [],
   "source": [
    "numbers = [1,2,3,4,5,1,4,5]\n",
    " \n",
    "# start = 10\n",
    "Sum = sum(numbers)\n",
    "average= Sum/len(numbers)\n",
    "print (average)"
   ]
  },
  {
   "cell_type": "code",
   "execution_count": null,
   "metadata": {},
   "outputs": [],
   "source": [
    "import math\n",
    "a ={}\n",
    "with open(\".\\iris.csv\") as f:\n",
    "    data_csv = csv.DictReader(f)\n",
    "    # data = csv.reader(f)\n",
    "    sum = 0.0\n",
    "    for i in data_csv:\n",
    "        if i['species'] not in a:\n",
    "            a[i['species']] = [float(i['petal_length'])]\n",
    "        else:\n",
    "            a[i['species']] += [float(i['petal_length'])]\n",
    "a = sorted(a.items(), key=lambda x: x[0])\n",
    "for i in a:\n",
    "    # print(sum(i[0]))\n",
    "    print(i[0], \"%.1f %.1f %.1f %.1f\" %(sum(i[1], sum(i[1])/float(len(i[1])), max(i[1]), min(i[1]))))"
   ]
  },
  {
   "attachments": {},
   "cell_type": "markdown",
   "metadata": {},
   "source": [
    "JSON"
   ]
  },
  {
   "cell_type": "code",
   "execution_count": 35,
   "metadata": {},
   "outputs": [],
   "source": [
    "import json"
   ]
  },
  {
   "cell_type": "code",
   "execution_count": 42,
   "metadata": {},
   "outputs": [
    {
     "name": "stdout",
     "output_type": "stream",
     "text": [
      "Invalid\n"
     ]
    }
   ],
   "source": [
    "f = open(\"book.json\")\n",
    "data_json = json.load(f)\n",
    "for i in data_json['eBooks']:\n",
    "    if i['language']=='SQL':\n",
    "        print(i['edition'])\n",
    "    else:\n",
    "        print('Invalid')\n",
    "        break\n",
    "\n",
    "f.close()"
   ]
  }
 ],
 "metadata": {
  "kernelspec": {
   "display_name": "Python 3",
   "language": "python",
   "name": "python3"
  },
  "language_info": {
   "codemirror_mode": {
    "name": "ipython",
    "version": 3
   },
   "file_extension": ".py",
   "mimetype": "text/x-python",
   "name": "python",
   "nbconvert_exporter": "python",
   "pygments_lexer": "ipython3",
   "version": "3.10.0 (tags/v3.10.0:b494f59, Oct  4 2021, 19:00:18) [MSC v.1929 64 bit (AMD64)]"
  },
  "orig_nbformat": 4,
  "vscode": {
   "interpreter": {
    "hash": "27f6fea6f47ae512550f0b8facdbd035a93e1dd89633f7bf2dd00a2502c71d0d"
   }
  }
 },
 "nbformat": 4,
 "nbformat_minor": 2
}
