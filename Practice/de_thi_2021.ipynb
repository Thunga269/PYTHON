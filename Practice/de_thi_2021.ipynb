{
 "cells": [
  {
   "attachments": {},
   "cell_type": "markdown",
   "metadata": {},
   "source": [
    "Slice Strings"
   ]
  },
  {
   "cell_type": "code",
   "execution_count": 2,
   "metadata": {},
   "outputs": [
    {
     "name": "stdout",
     "output_type": "stream",
     "text": [
      "10\n",
      "iop\n"
     ]
    }
   ],
   "source": [
    "s = \"qwertyuiop\"\n",
    "print(len(s))\n",
    "print(s[-3:])"
   ]
  },
  {
   "cell_type": "code",
   "execution_count": 7,
   "metadata": {},
   "outputs": [
    {
     "name": "stdout",
     "output_type": "stream",
     "text": [
      "piyrw"
     ]
    }
   ],
   "source": [
    "ss = s[::-1]\n",
    "for i in range(len(ss)):\n",
    "    if i%2==0:\n",
    "        print(ss[i], end='')"
   ]
  },
  {
   "cell_type": "code",
   "execution_count": 9,
   "metadata": {},
   "outputs": [
    {
     "name": "stdout",
     "output_type": "stream",
     "text": [
      "qwertyui\n",
      "qwert\n"
     ]
    }
   ],
   "source": [
    "print(s[:-2])\n",
    "print(s[:5])"
   ]
  },
  {
   "cell_type": "code",
   "execution_count": 11,
   "metadata": {},
   "outputs": [
    {
     "name": "stdout",
     "output_type": "stream",
     "text": [
      "qetuo\n",
      "wryip"
     ]
    }
   ],
   "source": [
    "for i in range(len(s)):\n",
    "    if i%2==0:\n",
    "        print(s[i], end='')\n",
    "print()\n",
    "for i in range(len(s)):\n",
    "    if i%2!=0:\n",
    "        print(s[i], end='')"
   ]
  },
  {
   "cell_type": "code",
   "execution_count": 12,
   "metadata": {},
   "outputs": [
    {
     "data": {
      "text/plain": [
       "'o'"
      ]
     },
     "execution_count": 12,
     "metadata": {},
     "output_type": "execute_result"
    }
   ],
   "source": [
    "s[-2]"
   ]
  },
  {
   "attachments": {},
   "cell_type": "markdown",
   "metadata": {},
   "source": [
    "Hệ số Jaccard\n",
    "Cho hai chuỗi A và B, Tính độ đo tương đồng Jaccrad giữa hai chuỗi.Lưu ý:●Nếu A và B rỗng, thì J(A, B)=1●J(A, B) nằm trong đoạn [0, 1]\n",
    "●Lưu ý các kí tự trong chuỗi để tính tương đồng không phân biệt chữ hoa thường,không bao gồm các ký tự như khoảng trắng, dấu chấm (.), dấu phấy (,) và dấu hỏichấm (?)."
   ]
  },
  {
   "cell_type": "code",
   "execution_count": 9,
   "metadata": {},
   "outputs": [],
   "source": [
    "def jacard(s1, s2):\n",
    "    s1 = set(s1)\n",
    "    s2 = set(s2)\n",
    "    return len(s1.intersection(s2))/len(s1.union(s2))"
   ]
  },
  {
   "cell_type": "code",
   "execution_count": 11,
   "metadata": {},
   "outputs": [
    {
     "data": {
      "text/plain": [
       "0.5"
      ]
     },
     "execution_count": 11,
     "metadata": {},
     "output_type": "execute_result"
    }
   ],
   "source": [
    "A = \"Hom qua troi mua.\"\n",
    "B = \"Hom qua mua, ngay mai co nang khong?\"\n",
    "A = ''.join(A.lower().strip().split())\n",
    "a, b='', ''\n",
    "for i in A:\n",
    "    if i.isalpha():\n",
    "        a += i\n",
    "B = ''.join(B.lower().strip().split())\n",
    "for i in B:\n",
    "    if i.isalpha():\n",
    "        b += i\n",
    "jacard(a,b)"
   ]
  },
  {
   "attachments": {},
   "cell_type": "markdown",
   "metadata": {},
   "source": [
    "Cosin Similarity"
   ]
  },
  {
   "cell_type": "code",
   "execution_count": null,
   "metadata": {},
   "outputs": [],
   "source": [
    "import math\n",
    "def cosin_similarity(a, b):\n",
    "    b = [float(x) for x in b]\n",
    "    tu, mau_a, mau_b = 0.0, 0.0, 0.0\n",
    "    for i in range(len(a)):\n",
    "        tu += a[i]*b[i]\n",
    "        mau_a += a[i]**2\n",
    "        mau_b += b[i]**2\n",
    "    return \"%.4f\"%(tu/(math.sqrt(mau_a)*math.sqrt(mau_b)))"
   ]
  },
  {
   "cell_type": "code",
   "execution_count": null,
   "metadata": {},
   "outputs": [],
   "source": [
    "N = int(input())\n",
    "n = int(input())\n",
    "a = [float(x) for x in input().split()]\n",
    "m = -1.0\n",
    "kq = ''\n",
    "re = []\n",
    "for i in range(N-3):\n",
    "    s = input().split()\n",
    "    c = float(cosin_similarity(a, s[1:]))\n",
    "    m = max(m, c)\n",
    "    if m == c:\n",
    "        kq = s[0]\n",
    "    re.append(c)\n",
    "    \n",
    "print(kq, re)"
   ]
  },
  {
   "attachments": {},
   "cell_type": "markdown",
   "metadata": {},
   "source": [
    "TỪ ĐIỂN LỒNG NHAU\n",
    "Tên và điểm thi môn Lập trình Python của mỗi sinh viên được lưu vào một từ điển, với key là tên sinh viên, value tương ứng là điểm thi của sinh viên. Lưu trữ chúng trong một từ điểnlồng nhau. Với một lớp có N (N <= 70) sinh viên, tìm và in ra tên của K (K<=5) sinh viên có điểm thi cao nhất. Nếu có nhiều sinh viên bằng điểm nhau, hãy sắp xếp tên theo chiều tăngdần của bảng chữ cái\n",
    "\n",
    "Input:\n",
    "●Dòng đầu tiên là giá trị N và K, cách nhau bởi một khoảng trắng.\n",
    "●N dòng tiếp theo là tên và điểm thi của sinh viên\n",
    "\n",
    "Output:\n",
    "●Tên của K sinh viên có điểm cao nhất, được viết trên một dòng duy nhất mỗi tên cáchnhau bởi một khoảng trắng.\n",
    "●Nếu giá trị N và K không thỏa mãn điều kiện, in ra thông báo: INVALID INPUT\n",
    "\n",
    "10 3\n",
    "Hung 6\n",
    "Long 7\n",
    "Giang 8\n",
    "Linh 5\n",
    "Tuan 8\n",
    "Hoa 9\n",
    "Mai 5\n",
    "Ngoc 4\n",
    "Khanh 9\n",
    "Ngan 10\n",
    "\n",
    "Out:\n",
    "Ngan Hoa Khanh\n"
   ]
  },
  {
   "cell_type": "code",
   "execution_count": 20,
   "metadata": {},
   "outputs": [],
   "source": [
    "class SinhVien:\n",
    "    def __init__(self, args):\n",
    "        self.name = ' '.join(args[:-1])\n",
    "        self.score = int(args[-1])"
   ]
  },
  {
   "cell_type": "code",
   "execution_count": null,
   "metadata": {},
   "outputs": [],
   "source": [
    "kq = {} #tu dien\n",
    "N, K = map(int, input().split())\n",
    "for i in range(N):\n",
    "    sv = SinhVien(input().split())\n",
    "    kq[sv.name] = sv.score\n",
    "# print(kq)\n",
    "kq = sorted(kq.items(), key = lambda x: ((-x[1]), x[0]))\n",
    "dem = 0\n",
    "print(kq)\n",
    "for i in kq:\n",
    "    if dem == K: break\n",
    "    print(i[0], end=' ')\n",
    "    dem += 1"
   ]
  },
  {
   "attachments": {},
   "cell_type": "markdown",
   "metadata": {},
   "source": [
    "TỔNG TÍCH LŨY\n",
    "Một danh sách có 3 phần tử: [1, 2, 3] => danh sách tổng tích lũy mới là: [1, 3, 6]In ra màn hình tích và tổng của các phần tử trong danh sách mới đó."
   ]
  },
  {
   "cell_type": "code",
   "execution_count": 26,
   "metadata": {},
   "outputs": [
    {
     "name": "stdout",
     "output_type": "stream",
     "text": [
      "[1, 3, 6]\n",
      "10\n",
      "18\n"
     ]
    }
   ],
   "source": [
    "N = int(input())\n",
    "a = [int(x) for x in input().split()]\n",
    "b = []\n",
    "for i in range(len(a)):\n",
    "    b.append(sum(a[:i])+a[i])\n",
    "print(b)\n",
    "print(sum(b))\n",
    "kq = 1\n",
    "for i in b:\n",
    "    kq *= i\n",
    "print(kq)"
   ]
  },
  {
   "attachments": {},
   "cell_type": "markdown",
   "metadata": {},
   "source": [
    "TỪ ĐIỂN\n",
    "Cho một từ điển gồm K phần tử. Viết chương trình tính tổng và tích của các phần tử có giá trị(value) là số trong từ điển đã cho."
   ]
  },
  {
   "cell_type": "code",
   "execution_count": 29,
   "metadata": {},
   "outputs": [
    {
     "name": "stdout",
     "output_type": "stream",
     "text": [
      "dict_values(['9', '5', '1'])\n"
     ]
    }
   ],
   "source": [
    "kq = {}\n",
    "for _ in range(int(input())):\n",
    "    s = input().split()\n",
    "    if s[1].isdigit():\n",
    "        kq[s[0]] = int(s[1])\n",
    "\n",
    "a = list(kq.values())\n",
    "print(sum(a))\n",
    "k = 1\n",
    "for i in a:\n",
    "    k *= i\n",
    "print(k)"
   ]
  },
  {
   "attachments": {
    "image.png": {
     "image/png": "[encoded data removed]"
    }
   },
   "cell_type": "markdown",
   "metadata": {},
   "source": [
    "KHOẢNG CÁCH HAVERSINE\n",
    "![image.png](attachment:image.png)"
   ]
  },
  {
   "cell_type": "code",
   "execution_count": 31,
   "metadata": {},
   "outputs": [
    {
     "data": {
      "text/plain": [
       "4951.286090174602"
      ]
     },
     "execution_count": 31,
     "metadata": {},
     "output_type": "execute_result"
    }
   ],
   "source": [
    "import math\n",
    "long1, lat1 = [float(x) for x in input().split()]\n",
    "long2, lat2 = [float(x) for x in input().split()]\n",
    "delta_lat = lat2-lat1\n",
    "delta_long = long2-long1\n",
    "a = (math.sin(delta_lat/2))**2 + math.cos(lat1)*math.cos(lat2)*(math.sin(delta_long/2))**2\n",
    "c = 2*math.asin(math.sqrt(a))\n",
    "d = 6731*c\n",
    "d"
   ]
  },
  {
   "attachments": {},
   "cell_type": "markdown",
   "metadata": {},
   "source": [
    "LỚP TAM GIÁC VUÔNG"
   ]
  },
  {
   "cell_type": "code",
   "execution_count": 32,
   "metadata": {},
   "outputs": [
    {
     "name": "stdout",
     "output_type": "stream",
     "text": [
      "yes\n"
     ]
    }
   ],
   "source": [
    "a = [4, 3, 5]\n",
    "a = sorted(a)\n",
    "if a[2]**2 == a[1]**2+a[0]**2:\n",
    "    print('yes')"
   ]
  },
  {
   "attachments": {},
   "cell_type": "markdown",
   "metadata": {},
   "source": [
    "ĐỀ 2"
   ]
  },
  {
   "attachments": {},
   "cell_type": "markdown",
   "metadata": {},
   "source": [
    "CẶP SỐ THÂN THIẾT\n",
    "Ví dụ: Số 220 ngoài bản thân nó ra, nó còn có 11 ước số là 1, 2, 4, 5, 10, 11, 20, 44, 55 và110. Tổng của 11 ước số này vừa đúng bằng 284. Ngược lại, số 284 ngoài bản thân nó, nócòn 5 ước số khác là: 1, 2, 4, 71, 142, tổng của chúng cũng vừa đúng bằng 220"
   ]
  },
  {
   "cell_type": "code",
   "execution_count": 38,
   "metadata": {},
   "outputs": [],
   "source": [
    "def uoc(a):\n",
    "    sum = 1\n",
    "    for i in range(2, int(math.sqrt(a))+1):\n",
    "        if a % i == 0:\n",
    "            # print(i, a/i)\n",
    "            sum += i + int(a/i)\n",
    "    k = math.sqrt(a) #2.23 ; a = 5\n",
    "    if  int(k)**2 == a:\n",
    "        sum -= k \n",
    "    return sum"
   ]
  },
  {
   "cell_type": "code",
   "execution_count": 42,
   "metadata": {},
   "outputs": [
    {
     "data": {
      "text/plain": [
       "284"
      ]
     },
     "execution_count": 42,
     "metadata": {},
     "output_type": "execute_result"
    }
   ],
   "source": [
    "a = 220\n",
    "b = 284\n",
    "uoc(a)"
   ]
  },
  {
   "attachments": {
    "image.png": {
     "image/png": "[encoded data removed]"
    }
   },
   "cell_type": "markdown",
   "metadata": {},
   "source": [
    "DANH SÁCH TUPLES\n",
    "\n",
    "Cho một danh sách A[ ] gồm N tuples, mỗi tuple không quá 10 phần tử. \n",
    "Hãy kết hợp cáctuples có phần tử đầu tiên giống nhau\n",
    "\n",
    "![image.png](attachment:image.png)"
   ]
  },
  {
   "cell_type": "code",
   "execution_count": 57,
   "metadata": {},
   "outputs": [
    {
     "data": {
      "text/plain": [
       "(2, 3, 2, 3, 4)"
      ]
     },
     "execution_count": 57,
     "metadata": {},
     "output_type": "execute_result"
    }
   ],
   "source": [
    "b = (1, 2, 3) #tuple\n",
    "b = b + (2, 3, 4)\n",
    "b[1:]"
   ]
  },
  {
   "cell_type": "code",
   "execution_count": 59,
   "metadata": {},
   "outputs": [
    {
     "name": "stdout",
     "output_type": "stream",
     "text": [
      "[[1, 3, 5, 6, 6], [2, 1, 3, 4], [5, 1]]\n"
     ]
    }
   ],
   "source": [
    "kq, tup,c  = [] , [], []\n",
    "m = 0\n",
    "ok = False\n",
    "for i in range(int(input())):\n",
    "    a = [int(x) for x in input().split()]\n",
    "    kq.append(a)\n",
    "kq = sorted(kq)\n",
    "for a in kq:\n",
    "    if m == a[0]:\n",
    "        tup += a[1:]\n",
    "        # print(tup)\n",
    "    else:\n",
    "        m = a[0] \n",
    "        tup = a    \n",
    "        c.append(tup) \n",
    "        # tup = a   \n",
    "print(c)"
   ]
  },
  {
   "attachments": {},
   "cell_type": "markdown",
   "metadata": {},
   "source": [
    "QUY ĐỔI ĐIỂM"
   ]
  },
  {
   "cell_type": "code",
   "execution_count": 60,
   "metadata": {},
   "outputs": [
    {
     "name": "stdout",
     "output_type": "stream",
     "text": [
      "Nguye Van A F Kem\n"
     ]
    }
   ],
   "source": [
    "name = input()\n",
    "diem_cc = float(input())\n",
    "d_ktra = float(input())\n",
    "d_btl = float(input())\n",
    "d_ki = float()\n",
    "d = diem_cc*0.1+d_ktra*0.1+d_btl*0.2+d_ki*0.6\n",
    "print(d)\n",
    "check  = {'A':'Gioi', 'B': 'Kha', 'C': 'Trung binh' , 'D': 'Trung binh kem', 'F': 'Kem'}\n",
    "if d < 4.0: t = \"F\"\n",
    "elif d>= 4.0 and d <= 5.4: t = \"D\"\n",
    "elif d>= 5.5 and d <= 6.9: t = \"C\"\n",
    "elif d>= 7.0 and d <= 8.4: t = \"B\"\n",
    "elif d>= 8.5 and d <= 10.0: t = \"A\"\n",
    "print(name, t, check[t])"
   ]
  },
  {
   "attachments": {},
   "cell_type": "markdown",
   "metadata": {},
   "source": [
    "ĐỀ 3"
   ]
  },
  {
   "attachments": {},
   "cell_type": "markdown",
   "metadata": {},
   "source": [
    "FIRST SECOND AND LAST OCCURENCE\n",
    "Cho một chuỗi có thể chứa một chữ cái t không phân biệt viết hoa hay viết thường.\n",
    "In chỉ mục của lần xuất hiện đầu tiên, thứ hai và cuối cùng của t.\n",
    "Nếu ký tự t chỉ xuất hiện một lần thì chỉ in ra chỉ số của nó trong 1 và nếu chuỗi không chứaký tự t thì in -1"
   ]
  },
  {
   "cell_type": "code",
   "execution_count": 66,
   "metadata": {},
   "outputs": [
    {
     "name": "stdout",
     "output_type": "stream",
     "text": [
      "0\n",
      "7\n",
      "9\n"
     ]
    }
   ],
   "source": [
    "s = \"Python_Programing_Test_ptit\"\n",
    "s = \"toiyeuPTIT\"\n",
    "s = s.lower()\n",
    "dem = 0\n",
    "for i in range(len(s)):\n",
    "    if s[i] =='t':\n",
    "        if dem == 3: break\n",
    "        dem+=1\n",
    "        print(i)\n",
    "if dem == 0: print(-1)"
   ]
  },
  {
   "attachments": {
    "image.png": {
     "image/png": "[encoded data removed]"
    }
   },
   "cell_type": "markdown",
   "metadata": {},
   "source": [
    "EUCLIDEAN DISTANCE\n",
    "![image.png](attachment:image.png)"
   ]
  },
  {
   "cell_type": "code",
   "execution_count": 67,
   "metadata": {},
   "outputs": [],
   "source": [
    "def Euclidean(a, b):\n",
    "    tong = 0.0\n",
    "    for i in range(len(a)):\n",
    "        tong += (a[i]-b[i])**2\n",
    "    return math.sqrt(tong)"
   ]
  },
  {
   "cell_type": "code",
   "execution_count": 69,
   "metadata": {},
   "outputs": [
    {
     "ename": "TypeError",
     "evalue": "unsupported operand type(s) for -: 'float' and 'str'",
     "output_type": "error",
     "traceback": [
      "\u001b[1;31m---------------------------------------------------------------------------\u001b[0m",
      "\u001b[1;31mTypeError\u001b[0m                                 Traceback (most recent call last)",
      "Cell \u001b[1;32mIn [69], line 9\u001b[0m\n\u001b[0;32m      7\u001b[0m \u001b[39mfor\u001b[39;00m i \u001b[39min\u001b[39;00m \u001b[39mrange\u001b[39m(N\u001b[39m-\u001b[39m\u001b[39m2\u001b[39m):\n\u001b[0;32m      8\u001b[0m     s \u001b[39m=\u001b[39m \u001b[39minput\u001b[39m()\u001b[39m.\u001b[39msplit()\n\u001b[1;32m----> 9\u001b[0m     c \u001b[39m=\u001b[39m \u001b[39mfloat\u001b[39m(Euclidean(a, s[\u001b[39m1\u001b[39;49m:]))\n\u001b[0;32m     10\u001b[0m     m \u001b[39m=\u001b[39m \u001b[39mmax\u001b[39m(m, c)\n\u001b[0;32m     11\u001b[0m     \u001b[39mif\u001b[39;00m m \u001b[39m==\u001b[39m c:\n",
      "Cell \u001b[1;32mIn [67], line 4\u001b[0m, in \u001b[0;36mEuclidean\u001b[1;34m(a, b)\u001b[0m\n\u001b[0;32m      2\u001b[0m tong \u001b[39m=\u001b[39m \u001b[39m0.0\u001b[39m\n\u001b[0;32m      3\u001b[0m \u001b[39mfor\u001b[39;00m i \u001b[39min\u001b[39;00m \u001b[39mrange\u001b[39m(\u001b[39mlen\u001b[39m(a)):\n\u001b[1;32m----> 4\u001b[0m     tong \u001b[39m+\u001b[39m\u001b[39m=\u001b[39m (a[i]\u001b[39m-\u001b[39;49mb[i])\u001b[39m*\u001b[39m\u001b[39m*\u001b[39m\u001b[39m2\u001b[39m\n\u001b[0;32m      5\u001b[0m \u001b[39mreturn\u001b[39;00m math\u001b[39m.\u001b[39msqrt(tong)\n",
      "\u001b[1;31mTypeError\u001b[0m: unsupported operand type(s) for -: 'float' and 'str'"
     ]
    }
   ],
   "source": [
    "N = int(input())\n",
    "n = int(input())\n",
    "a = [float(x) for x in input().split()]\n",
    "m = -1.0\n",
    "kq = ''\n",
    "re = []\n",
    "for i in range(N-2):\n",
    "    s = input().split()\n",
    "    c = float(Euclidean(a, s[1:]))\n",
    "    m = max(m, c)\n",
    "    if m == c:\n",
    "        kq = s[0]\n",
    "    re.append(c)\n",
    "    \n",
    "print(kq, re)"
   ]
  }
 ],
 "metadata": {
  "kernelspec": {
   "display_name": "Python 3",
   "language": "python",
   "name": "python3"
  },
  "language_info": {
   "codemirror_mode": {
    "name": "ipython",
    "version": 3
   },
   "file_extension": ".py",
   "mimetype": "text/x-python",
   "name": "python",
   "nbconvert_exporter": "python",
   "pygments_lexer": "ipython3",
   "version": "3.10.0"
  },
  "orig_nbformat": 4,
  "vscode": {
   "interpreter": {
    "hash": "27f6fea6f47ae512550f0b8facdbd035a93e1dd89633f7bf2dd00a2502c71d0d"
   }
  }
 },
 "nbformat": 4,
 "nbformat_minor": 2
}
