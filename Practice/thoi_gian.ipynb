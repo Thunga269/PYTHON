{
 "cells": [
  {
   "cell_type": "markdown",
   "metadata": {},
   "source": [
    "tính toán thời gian"
   ]
  },
  {
   "cell_type": "code",
   "execution_count": 2,
   "metadata": {},
   "outputs": [],
   "source": [
    "from datetime import datetime\n",
    "# from datetime"
   ]
  },
  {
   "cell_type": "code",
   "execution_count": 7,
   "metadata": {},
   "outputs": [
    {
     "name": "stdout",
     "output_type": "stream",
     "text": [
      "1:20:00\n"
     ]
    }
   ],
   "source": [
    "t1 = datetime.strptime(\"12:50\", \"%H:%M\")\n",
    "t2 = datetime.strptime(\"11:30\", \"%H:%M\")\n",
    "print(t1-t2)"
   ]
  },
  {
   "cell_type": "code",
   "execution_count": 5,
   "metadata": {},
   "outputs": [
    {
     "data": {
      "text/plain": [
       "datetime.datetime(2022, 12, 20, 0, 0)"
      ]
     },
     "execution_count": 5,
     "metadata": {},
     "output_type": "execute_result"
    }
   ],
   "source": [
    "t = datetime.strptime(\"20/12/2022\", \"%d/%m/%Y\")\n",
    "t"
   ]
  },
  {
   "cell_type": "code",
   "execution_count": 8,
   "metadata": {},
   "outputs": [
    {
     "data": {
      "text/plain": [
       "datetime.datetime(1997, 12, 20, 0, 0)"
      ]
     },
     "execution_count": 8,
     "metadata": {},
     "output_type": "execute_result"
    }
   ],
   "source": [
    "t = datetime.strptime(\"20/12/97\", \"%d/%m/%y\")\n",
    "t"
   ]
  },
  {
   "cell_type": "code",
   "execution_count": 11,
   "metadata": {},
   "outputs": [
    {
     "data": {
      "text/plain": [
       "['2022', '12', '30']"
      ]
     },
     "execution_count": 11,
     "metadata": {},
     "output_type": "execute_result"
    }
   ],
   "source": [
    "(\"30/12/2022\".split('/'))[::-1] #sắp xếp theo ngày: chuyển về dạng năm/tháng/ngày"
   ]
  },
  {
   "attachments": {},
   "cell_type": "markdown",
   "metadata": {},
   "source": [
    "Input:\n",
    "Dòng đầu của dữ liệu vào ghi số lượng game thủ trong ngày (không quá 20).\n",
    "Thông tin về một game thủ đến chơi game được ghi lại trên 4 dòng lần lượt là:\n",
    "Mã người chơi (xâu ký tự độ dài không quá 10, không có khoảng trống)\n",
    "Tên người chơi (xâu ký tự độ dài không quá 100, có thể có khoảng trống).\n",
    "Giờ vào (định dạng hh:mm)\n",
    "Giờ ra (định dạng hh:mm)\n",
    "Ouput:\n",
    "Ghi ra danh sách game thủ đã được sắp xếp theo thời gian chơi game giảm dần."
   ]
  },
  {
   "cell_type": "code",
   "execution_count": null,
   "metadata": {},
   "outputs": [],
   "source": [
    "\n",
    "t = int(input())\n",
    "a =[]\n",
    "from datetime import datetime\n",
    "for i in range(t):\n",
    "    code = input()\n",
    "    name = input()\n",
    "    format = \"%H:%M\"\n",
    "    time_in = datetime.strptime(input(), format)\n",
    "    time_out= datetime.strptime(input(), format)\n",
    "    time = str(time_out-time_in).split(\":\")\n",
    "    minute = int(time[0])*60+int(time[1])\n",
    "    a.append([code, name, time, minute])\n",
    "a.sort(reverse=True, key = lambda x: x[3])\n",
    "for i in a:\n",
    "    print(i[0], i[1], \"%s gio %s phut\" % (int(i[2][0]), int(i[2][1])))"
   ]
  },
  {
   "attachments": {},
   "cell_type": "markdown",
   "metadata": {},
   "source": [
    "Bài toán gồm 2 class: ánh xạ từ class này -> class khác"
   ]
  },
  {
   "cell_type": "code",
   "execution_count": null,
   "metadata": {},
   "outputs": [],
   "source": [
    "class TheLoai:\n",
    "    def __init__(self, id,name):\n",
    "        self.id = id\n",
    "        self.name = name\n",
    "\n",
    "class Film:\n",
    "    def __init__(self, id_f, id_theloai, day, name_f, num) :\n",
    "        self.id_f = id_f\n",
    "        self.theloai = map_TL[id_theloai]\n",
    "        self.day = day\n",
    "        self.name_f = name_f\n",
    "        self.num = num\n",
    "    def __str__(self) :\n",
    "        return self.id_f+\" \"+self.theloai.name+\" \"+self.day+\" \"+self.name_f+\" \"+str(self.num)\n",
    "\n",
    "N, M = map(int, input().split())\n",
    "theloais = [TheLoai(\"TL%.3d\"%(i+1),input()) for i in range(N)]\n",
    "map_TL = {x.id: x for x in theloais}\n",
    "\n",
    "films = [Film(\"P%.3d\"%(i+1), input(), input(), input(), int(input())) for i in range(M)]\n",
    "films.sort(key=lambda x: (x.day.split(\"/\")[::-1], x.name_f, -x.num))\n",
    "print(*films, sep='\\n')"
   ]
  }
 ],
 "metadata": {
  "kernelspec": {
   "display_name": "Python 3.10.0 64-bit",
   "language": "python",
   "name": "python3"
  },
  "language_info": {
   "codemirror_mode": {
    "name": "ipython",
    "version": 3
   },
   "file_extension": ".py",
   "mimetype": "text/x-python",
   "name": "python",
   "nbconvert_exporter": "python",
   "pygments_lexer": "ipython3",
   "version": "3.10.0 (tags/v3.10.0:b494f59, Oct  4 2021, 19:00:18) [MSC v.1929 64 bit (AMD64)]"
  },
  "orig_nbformat": 4,
  "vscode": {
   "interpreter": {
    "hash": "27f6fea6f47ae512550f0b8facdbd035a93e1dd89633f7bf2dd00a2502c71d0d"
   }
  }
 },
 "nbformat": 4,
 "nbformat_minor": 2
}
