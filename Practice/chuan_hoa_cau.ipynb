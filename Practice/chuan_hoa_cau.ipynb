{
 "cells": [
  {
   "cell_type": "code",
   "execution_count": 1,
   "metadata": {},
   "outputs": [
    {
     "data": {
      "text/plain": [
       "65"
      ]
     },
     "execution_count": 1,
     "metadata": {},
     "output_type": "execute_result"
    }
   ],
   "source": [
    "ord('A')"
   ]
  },
  {
   "cell_type": "code",
   "execution_count": 2,
   "metadata": {},
   "outputs": [
    {
     "name": "stdout",
     "output_type": "stream",
     "text": [
      "['Hey', 'you', 'what', 'are', 'you', 'doing']\n"
     ]
    }
   ],
   "source": [
    "import re\n",
    "Data = \"Hey, you - what    are you doing  !?\"\n",
    "print (re.findall(r\"[\\w]+\", Data))"
   ]
  },
  {
   "cell_type": "code",
   "execution_count": 3,
   "metadata": {},
   "outputs": [
    {
     "name": "stdout",
     "output_type": "stream",
     "text": [
      "['Hey,', 'you', '-', 'what', 'are', 'you', 'doing', '!?']\n"
     ]
    }
   ],
   "source": [
    "print (re.findall('[^\\d\\s]+', Data))"
   ]
  },
  {
   "cell_type": "code",
   "execution_count": null,
   "metadata": {},
   "outputs": [],
   "source": [
    "text = \"\"\n",
    "while True:\n",
    "    try: \n",
    "        n = input()\n",
    "        text += n+\" \"\n",
    "    except EOFError: \n",
    "        break"
   ]
  },
  {
   "attachments": {},
   "cell_type": "markdown",
   "metadata": {},
   "source": [
    "Hãy viết chương trình chuẩn hóa các câu trong dữ liệu vào với các yêu cầu sau:\n",
    "\n",
    "Ký tự đầu mỗi câu viết hoa, các ký tự khác viết thường.\n",
    "Các từ cách nhau đúng một khoảng trống.\n",
    "Tự động điền thêm dấu chấm (.) nếu xuống dòng mà chưa có dấu ngắt câu.\n",
    "Dấu ngắt câu phải viết sát ký tự cuối cùng của câu (không tính khoảng trống)"
   ]
  },
  {
   "cell_type": "code",
   "execution_count": null,
   "metadata": {},
   "outputs": [],
   "source": [
    "c = \".!?\"\n",
    "text = []\n",
    "while True:\n",
    "    try:\n",
    "        line = input().strip().lower().split()\n",
    "        if len(line) >0: \n",
    "            if line[-1][-1] not in c: line += ['.'] \n",
    "            # xét kí tự cuối cùng của phần tử cuối cùng -> VD:'te.' Thêm dấu '.' vào cuối câu\n",
    "        k = 0\n",
    "        # print(line)\n",
    "        for i in range(k, len(line)):\n",
    "            if line[i][-1] in c:\n",
    "                text.append(' '.join(line[k:i+1]))\n",
    "                k = i+1\n",
    "\n",
    "    except EOFError:\n",
    "        break"
   ]
  },
  {
   "cell_type": "code",
   "execution_count": null,
   "metadata": {},
   "outputs": [],
   "source": [
    "for i in text: #i là 1 chuỗi\n",
    "    i = i[:1].upper()+i[1:]\n",
    "    if i[-1] in c and i[-2]==\" \":\n",
    "        i = i[:-2]+str(i[-1])\n",
    "    print(i)"
   ]
  }
 ],
 "metadata": {
  "kernelspec": {
   "display_name": "Python 3.10.0 64-bit",
   "language": "python",
   "name": "python3"
  },
  "language_info": {
   "codemirror_mode": {
    "name": "ipython",
    "version": 3
   },
   "file_extension": ".py",
   "mimetype": "text/x-python",
   "name": "python",
   "nbconvert_exporter": "python",
   "pygments_lexer": "ipython3",
   "version": "3.10.0 (tags/v3.10.0:b494f59, Oct  4 2021, 19:00:18) [MSC v.1929 64 bit (AMD64)]"
  },
  "orig_nbformat": 4,
  "vscode": {
   "interpreter": {
    "hash": "27f6fea6f47ae512550f0b8facdbd035a93e1dd89633f7bf2dd00a2502c71d0d"
   }
  }
 },
 "nbformat": 4,
 "nbformat_minor": 2
}
