{
 "cells": [
  {
   "cell_type": "markdown",
   "metadata": {},
   "source": [
    "HOÁN VỊ: permuation\n",
    "n = 3\n",
    "123 132 213 231 312 321"
   ]
  },
  {
   "cell_type": "code",
   "execution_count": 1,
   "metadata": {},
   "outputs": [
    {
     "name": "stdout",
     "output_type": "stream",
     "text": [
      "12 13 21 23 31 32 "
     ]
    }
   ],
   "source": [
    "from itertools import permutations\n",
    "perm = permutations('123', 2)\n",
    "for x in list(perm):\n",
    "    print(''.join(x), end=' ')"
   ]
  },
  {
   "cell_type": "code",
   "execution_count": 25,
   "metadata": {},
   "outputs": [
    {
     "name": "stdout",
     "output_type": "stream",
     "text": [
      "('1', '2', '3')\n",
      "('1', '3', '2')\n",
      "('2', '1', '3')\n",
      "('2', '3', '1')\n",
      "('3', '1', '2')\n",
      "('3', '2', '1')\n"
     ]
    }
   ],
   "source": [
    "perm = permutations('123')\n",
    "for x in list(perm):\n",
    "    print(x)"
   ]
  },
  {
   "cell_type": "code",
   "execution_count": 4,
   "metadata": {},
   "outputs": [
    {
     "name": "stdout",
     "output_type": "stream",
     "text": [
      "(0, 1)\n",
      "(1, 0)\n"
     ]
    }
   ],
   "source": [
    "for x in permutations(range(0,2)):\n",
    "    print(x)"
   ]
  },
  {
   "cell_type": "code",
   "execution_count": 33,
   "metadata": {},
   "outputs": [
    {
     "name": "stdout",
     "output_type": "stream",
     "text": [
      "321 312 231 213 132 123 "
     ]
    }
   ],
   "source": [
    "for i in permutations(range(3, 0, -1)):\n",
    "    print(''.join([str(j) for j in i]), end=' ')\n"
   ]
  },
  {
   "cell_type": "code",
   "execution_count": 32,
   "metadata": {},
   "outputs": [
    {
     "name": "stdout",
     "output_type": "stream",
     "text": [
      "123 132 213 231 312 321 "
     ]
    }
   ],
   "source": [
    "for i in permutations(range(1, 4,1)): #range(start, end, step)\n",
    "    print(''.join([str(j) for j in i]), end= ' ')"
   ]
  },
  {
   "cell_type": "code",
   "execution_count": 31,
   "metadata": {},
   "outputs": [
    {
     "name": "stdout",
     "output_type": "stream",
     "text": [
      "12 13 21 23 31 32 "
     ]
    }
   ],
   "source": [
    "for i in permutations(range(1, 4,1), 2): #range(start, end, step)\n",
    "    print(''.join([str(j) for j in i]), end=' ')"
   ]
  },
  {
   "cell_type": "code",
   "execution_count": 36,
   "metadata": {},
   "outputs": [
    {
     "name": "stdout",
     "output_type": "stream",
     "text": [
      "123 132 213 231 312 321 "
     ]
    }
   ],
   "source": [
    "d = [0]*15 # khởi tạo \n",
    "def Try(s):\n",
    "    if(len(s)== 3): #Nếu đủ độ dài n thì in ra\n",
    "        print(s, end=' ')\n",
    "    for i in range(1, 4): #chạy từ vị trí 1 đến vị trí n\n",
    "        if(d[i]==0): #Nếu vị trí chưa đc đánh dấu thì đánh dấu vị trí = 1\n",
    "            d[i]=1\n",
    "            Try(s+str(i)) #quay lui thêm tiếp vào\n",
    "            d[i]=0\n",
    "Try(\"\")\n"
   ]
  },
  {
   "cell_type": "markdown",
   "metadata": {},
   "source": [
    "TỔ HỢP:\n",
    "N = 3, K = 2\n",
    "12 13 23\n"
   ]
  },
  {
   "cell_type": "code",
   "execution_count": 19,
   "metadata": {},
   "outputs": [
    {
     "name": "stdout",
     "output_type": "stream",
     "text": [
      "12\n",
      "13\n",
      "23\n"
     ]
    }
   ],
   "source": [
    "from itertools import combinations\n",
    "comb = combinations('123', 2)\n",
    "for i in list(comb):\n",
    "    print(''.join(i))"
   ]
  },
  {
   "cell_type": "code",
   "execution_count": 22,
   "metadata": {},
   "outputs": [
    {
     "name": "stdout",
     "output_type": "stream",
     "text": [
      "11\n",
      "12\n",
      "13\n",
      "22\n",
      "23\n",
      "33\n"
     ]
    }
   ],
   "source": [
    "from itertools import combinations_with_replacement\n",
    "comb_re = combinations_with_replacement('123', 2)\n",
    "for i in list(comb_re):\n",
    "    print(''.join(i))"
   ]
  },
  {
   "cell_type": "code",
   "execution_count": 39,
   "metadata": {},
   "outputs": [
    {
     "name": "stdout",
     "output_type": "stream",
     "text": [
      "123 124 134 234 "
     ]
    }
   ],
   "source": [
    "a = [0]*15\n",
    "def Try(i, n, k):\n",
    "    for j in range(a[i-1]+1, n-k+i+1): #cho chạy từ vị trí trước đó đến vị trí n-k+i\n",
    "        a[i]=j\n",
    "        if(i==k):\n",
    "            for m in range(1, k+1):\n",
    "                print(a[m], end='')\n",
    "            print(end = ' ')\n",
    "        else:\n",
    "            Try(i+1, n, k)\n",
    "\n",
    "Try(1, 4, 3)"
   ]
  },
  {
   "cell_type": "markdown",
   "metadata": {},
   "source": [
    "Nhị phân"
   ]
  },
  {
   "cell_type": "code",
   "execution_count": 44,
   "metadata": {},
   "outputs": [
    {
     "name": "stdout",
     "output_type": "stream",
     "text": [
      "0000 0001 0010 0011 0100 0101 0110 0111 1000 1001 1010 1011 1100 1101 1110 1111 "
     ]
    }
   ],
   "source": [
    "a = [0]*15\n",
    "def Try(i, n):\n",
    "    for j in range(2):\n",
    "        a[i]=j\n",
    "        if(i == n-1):\n",
    "            for k in range(n):\n",
    "                print(a[k], end = '')\n",
    "            print(end=' ')\n",
    "        else:\n",
    "            Try(i+1, n)\n",
    "Try(0, 4)\n",
    "\n"
   ]
  },
  {
   "cell_type": "code",
   "execution_count": 12,
   "metadata": {},
   "outputs": [
    {
     "name": "stdout",
     "output_type": "stream",
     "text": [
      "123 132 213 231 312 321 "
     ]
    }
   ],
   "source": [
    "#Chinh hop\n",
    "a = [0]*15 #ham danh dau\n",
    "def Try(s, n):\n",
    "    if len(s)==n:\n",
    "        print(s, end=' ')\n",
    "    for i in range(1, n+1):\n",
    "        if a[i]==0:\n",
    "            a[i]=1\n",
    "            Try(s + str(i), n)\n",
    "            a[i]=0\n",
    "Try(\"\",3)\n"
   ]
  },
  {
   "cell_type": "code",
   "execution_count": 11,
   "metadata": {},
   "outputs": [
    {
     "name": "stdout",
     "output_type": "stream",
     "text": [
      "123 124 125 134 135 145 234 235 245 345 "
     ]
    }
   ],
   "source": [
    "#To hop\n",
    "a = [0]*15 #ham in ra\n",
    "def Try(i, n, k):\n",
    "    for j in range(a[i-1]+1, n-k+i+1):\n",
    "        a[i]=j\n",
    "        if i == k:\n",
    "            for x in range(1, k+1):\n",
    "                print(a[x], end='')\n",
    "            print(end=' ')\n",
    "        else:\n",
    "            Try(i+1, n, k)\n",
    "Try(1, 5, 3)"
   ]
  },
  {
   "cell_type": "code",
   "execution_count": 15,
   "metadata": {},
   "outputs": [
    {
     "name": "stdout",
     "output_type": "stream",
     "text": [
      "000 001 010 011 100 101 110 111 "
     ]
    }
   ],
   "source": [
    "a =[0]*15\n",
    "def Try(i, n):\n",
    "    for j in range(2):\n",
    "        a[i]=j\n",
    "        if i == n-1:\n",
    "            for x in range(n):\n",
    "                print(a[x], end='')\n",
    "            print(end=' ')\n",
    "        else:\n",
    "            Try(i+1, n)\n",
    "Try(0, 3)"
   ]
  }
 ],
 "metadata": {
  "kernelspec": {
   "display_name": "Python 3.10.0 64-bit",
   "language": "python",
   "name": "python3"
  },
  "language_info": {
   "codemirror_mode": {
    "name": "ipython",
    "version": 3
   },
   "file_extension": ".py",
   "mimetype": "text/x-python",
   "name": "python",
   "nbconvert_exporter": "python",
   "pygments_lexer": "ipython3",
   "version": "3.10.0 (tags/v3.10.0:b494f59, Oct  4 2021, 19:00:18) [MSC v.1929 64 bit (AMD64)]"
  },
  "orig_nbformat": 4,
  "vscode": {
   "interpreter": {
    "hash": "27f6fea6f47ae512550f0b8facdbd035a93e1dd89633f7bf2dd00a2502c71d0d"
   }
  }
 },
 "nbformat": 4,
 "nbformat_minor": 2
}
