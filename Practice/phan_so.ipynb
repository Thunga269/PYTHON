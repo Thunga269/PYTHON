{
 "cells": [
  {
   "cell_type": "markdown",
   "metadata": {},
   "source": [
    "Nên làm theo class"
   ]
  },
  {
   "cell_type": "code",
   "execution_count": 1,
   "metadata": {},
   "outputs": [],
   "source": [
    "import math"
   ]
  },
  {
   "cell_type": "code",
   "execution_count": 11,
   "metadata": {},
   "outputs": [],
   "source": [
    "class PhanSo:\n",
    "    def __init__(self, tu, mau):\n",
    "        self.tu = tu\n",
    "        self.mau = mau\n",
    "    def rutgon(self):\n",
    "        ucln = math.gcd(self.tu, self.mau)\n",
    "        self.tu /= ucln\n",
    "        self.mau /= ucln\n",
    "        return PhanSo(int(self.tu), int(self.mau))\n",
    "\n",
    "    def tong(self, other):\n",
    "        ucln = math.gcd(self.mau, other.mau)\n",
    "        t = self.tu * (self.mau/ucln) + other.tu * (other.mau/ucln)\n",
    "        m = (self.mau*other.mau)/ucln\n",
    "        return PhanSo(int(t), int(m))\n",
    "\n",
    "    def __str__(self) :\n",
    "        return str(int(self.tu)) + \"/\"+ str(int(self.mau))"
   ]
  },
  {
   "cell_type": "code",
   "execution_count": 14,
   "metadata": {},
   "outputs": [
    {
     "name": "stdout",
     "output_type": "stream",
     "text": [
      "1/3\n"
     ]
    }
   ],
   "source": [
    "print(PhanSo(6, 18).rutgon())"
   ]
  },
  {
   "cell_type": "code",
   "execution_count": 13,
   "metadata": {},
   "outputs": [
    {
     "name": "stdout",
     "output_type": "stream",
     "text": [
      "39/40\n"
     ]
    }
   ],
   "source": [
    "p1 = PhanSo(6,10).rutgon()\n",
    "p2 = PhanSo(12, 32).rutgon()\n",
    "print(p1.tong(p2))"
   ]
  },
  {
   "cell_type": "markdown",
   "metadata": {},
   "source": [
    "Cach 2"
   ]
  },
  {
   "cell_type": "code",
   "execution_count": 17,
   "metadata": {},
   "outputs": [],
   "source": [
    "def rutgon(a, b):\n",
    "    ucln = math.gcd(a, b)\n",
    "    a /= ucln\n",
    "    b /= ucln\n",
    "    return int(a), int(b)"
   ]
  },
  {
   "cell_type": "code",
   "execution_count": 19,
   "metadata": {},
   "outputs": [
    {
     "name": "stdout",
     "output_type": "stream",
     "text": [
      "39/40\n"
     ]
    }
   ],
   "source": [
    "a1, b1, a2, b2 = 6, 10, 12, 32\n",
    "a1, b1 = rutgon(a1, b1)\n",
    "a2, b2 = rutgon(a2, b2)\n",
    "ucln = math.gcd(b1, b2)\n",
    "a = a1* (b1/ucln)+a2* (b2/ucln)\n",
    "b = (b1*b2)/ucln\n",
    "print(str(int(a))+\"/\"+str(int(b)))\n"
   ]
  }
 ],
 "metadata": {
  "kernelspec": {
   "display_name": "Python 3.10.0 64-bit",
   "language": "python",
   "name": "python3"
  },
  "language_info": {
   "codemirror_mode": {
    "name": "ipython",
    "version": 3
   },
   "file_extension": ".py",
   "mimetype": "text/x-python",
   "name": "python",
   "nbconvert_exporter": "python",
   "pygments_lexer": "ipython3",
   "version": "3.10.0"
  },
  "orig_nbformat": 4,
  "vscode": {
   "interpreter": {
    "hash": "27f6fea6f47ae512550f0b8facdbd035a93e1dd89633f7bf2dd00a2502c71d0d"
   }
  }
 },
 "nbformat": 4,
 "nbformat_minor": 2
}
