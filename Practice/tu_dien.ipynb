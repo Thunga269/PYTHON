{
 "cells": [
  {
   "cell_type": "code",
   "execution_count": null,
   "metadata": {},
   "outputs": [],
   "source": [
    "f1 = open(\"Practice\\VANBAN.in\", \"r\")\n",
    "for i in f1.readlines():\n",
    "    print(i)"
   ]
  },
  {
   "attachments": {},
   "cell_type": "markdown",
   "metadata": {},
   "source": [
    "XỬ LÝ VĂN BẢN\n",
    "Một câu được định nghĩa là dãy ký tự có ít nhất 1 ký tự chữ cái hoặc chữ số, không chứa các dấu ngắt câu gồm: dấu chấm (.), dấu chấm hỏi (?) và dấu chấm cảm (!). Dấu phẩy (,) và dấu hai chấm (:) không được coi là dấu ngắt câu.\n",
    "\n",
    "Nhiệm vụ của bạn là in ra mỗi câu trên một dòng, ký tự đầu câu viết hoa, các ký tự khác viết thường, các từ cách nhau đúng một khoảng trống. Không có khoảng trống ở đầu và cuối câu, và không in ra các dấu ngắt câu."
   ]
  },
  {
   "cell_type": "code",
   "execution_count": null,
   "metadata": {},
   "outputs": [],
   "source": [
    "text = ''\n",
    "c = \".!?\"\n",
    "while True:\n",
    "    try:\n",
    "        s = input().strip().split()\n",
    "        text += ' '.join(s)\n",
    "    except EOFError:\n",
    "        break\n",
    "for i in c:\n",
    "    text = text.replace(i, '.')\n",
    "text = text.split(\".\")\n",
    "for i in text:\n",
    "    i = i.strip()\n",
    "    i = i[:1].upper() + i[1:].lower()\n",
    "    print(i)"
   ]
  },
  {
   "attachments": {},
   "cell_type": "markdown",
   "metadata": {},
   "source": [
    "Thống kê từ khác nhau\n",
    "Cho một đoạn văn bản có N dòng trong đó có thể có các dấu câu như dẩy phẩy (,) dấu chấm (.) dấu chấm hỏi (?) dấu chấm cảm (!) dấu hai chấm (:) dấu chấm phẩy (;) dấu ngoặc đơn, dấu gạch ngang (-), dấu gạch chéo (/).  \n",
    "\n",
    "Hãy liệt kê các từ khác nhau xuất hiện trong đoạn văn bản theo thứ tự số lần xuất hiện giảm dần.\n",
    "\n",
    "Chú ý:\n",
    "\n",
    "Khi thống kê thì không phân biệt chữ hoa, chữ thường.\n",
    "Bỏ qua các dấu câu đã liệt kê ở trên khi tách từ"
   ]
  },
  {
   "cell_type": "code",
   "execution_count": null,
   "metadata": {},
   "outputs": [],
   "source": [
    "dic = {}\n",
    "for _ in range(int(input())):\n",
    "    s = input().lower()\n",
    "    for i in s:\n",
    "        if not (i.isalpha() or i.isdigit()):\n",
    "            s = s.replace(i, \" \")\n",
    "   \n",
    "    for i in s.split():\n",
    "        if i in dic:\n",
    "            dic[i] += 1\n",
    "        else: \n",
    "            dic[i] = 1\n",
    "dic = sorted(dic.items(), key = lambda x: (-x[1], x[0]))\n",
    "for i in (dic):\n",
    "    print(*i)\n"
   ]
  },
  {
   "attachments": {},
   "cell_type": "markdown",
   "metadata": {},
   "source": [
    "THỐNG KÊ TỪ KHÁC NHAU THEO NGƯỠNG K"
   ]
  }
 ],
 "metadata": {
  "kernelspec": {
   "display_name": "Python 3",
   "language": "python",
   "name": "python3"
  },
  "language_info": {
   "name": "python",
   "version": "3.10.0 (tags/v3.10.0:b494f59, Oct  4 2021, 19:00:18) [MSC v.1929 64 bit (AMD64)]"
  },
  "orig_nbformat": 4,
  "vscode": {
   "interpreter": {
    "hash": "27f6fea6f47ae512550f0b8facdbd035a93e1dd89633f7bf2dd00a2502c71d0d"
   }
  }
 },
 "nbformat": 4,
 "nbformat_minor": 2
}
