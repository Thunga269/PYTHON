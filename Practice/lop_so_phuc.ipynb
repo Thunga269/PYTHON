{
 "cells": [
  {
   "cell_type": "markdown",
   "metadata": {},
   "source": [
    "Nên làm theo class"
   ]
  },
  {
   "cell_type": "code",
   "execution_count": 11,
   "metadata": {},
   "outputs": [],
   "source": [
    "class SoPhuc:\n",
    "    def __init__(self, thuc, ao):\n",
    "        self.thuc = thuc\n",
    "        self.ao = ao\n",
    "\n",
    "    def cong(self, other):\n",
    "        thuc = self.thuc+other.thuc\n",
    "        ao = self.ao+other.ao\n",
    "        return SoPhuc(thuc, ao)\n",
    "    def nhan(self, other):\n",
    "        #(1+2i)*(2+2i)\n",
    "        thuc = self.thuc * other.thuc - self.ao*other.ao\n",
    "        ao = self.thuc*other.ao+self.ao*other.thuc\n",
    "        return SoPhuc(thuc, ao)\n",
    "    def __str__(self):\n",
    "        if self.ao < 0:\n",
    "            self.ao = -self.ao\n",
    "            return \"%d - %di\" % (self.thuc, self.ao) \n",
    "        else:\n",
    "             return \"%d + %di\" % (self.thuc, self.ao) "
   ]
  },
  {
   "cell_type": "code",
   "execution_count": 12,
   "metadata": {},
   "outputs": [
    {
     "name": "stdout",
     "output_type": "stream",
     "text": [
      "1 - 2i\n"
     ]
    }
   ],
   "source": [
    "print(SoPhuc(1, -2))"
   ]
  },
  {
   "cell_type": "code",
   "execution_count": 13,
   "metadata": {},
   "outputs": [
    {
     "name": "stdout",
     "output_type": "stream",
     "text": [
      "-10 - 20i, -28 - 96i\n"
     ]
    }
   ],
   "source": [
    "s1 = SoPhuc(1, -2)\n",
    "s2 = SoPhuc(5, -6)\n",
    "C = (s1.cong(s2)).nhan(s1) #C = (s1+s2)*s1\n",
    "D = (s1.cong(s2)) #D=(s1+s2)**2\n",
    "D = D.nhan(D)\n",
    "print(str(C)+\", \"+str(D))"
   ]
  },
  {
   "cell_type": "markdown",
   "metadata": {},
   "source": [
    "cach 2"
   ]
  },
  {
   "cell_type": "code",
   "execution_count": 22,
   "metadata": {},
   "outputs": [],
   "source": [
    "def out(thuc, ao):\n",
    "    if ao < 0:\n",
    "        ao = -ao\n",
    "        return \"%d - %di\" % (thuc, ao)\n",
    "    else:\n",
    "        return \"%d + %di\" % (thuc, ao)\n",
    "def cong(a1, b1, a2, b2):\n",
    "    thuc = a1+a2\n",
    "    ao = b1+b2\n",
    "    return thuc, ao\n",
    "\n",
    "def nhan(a1, b1, a2, b2): #(a1+b1.i)*(a2+b2.i)\n",
    "    thuc = a1*a2-b1*b2\n",
    "    ao = a1*b2+a2*b1\n",
    "    return thuc, ao\n"
   ]
  },
  {
   "cell_type": "code",
   "execution_count": 28,
   "metadata": {},
   "outputs": [
    {
     "name": "stdout",
     "output_type": "stream",
     "text": [
      "-10 - 20i\n",
      "-28 - 96i\n"
     ]
    }
   ],
   "source": [
    "a1, b1, a2, b2 = 1, -2, 5, -6\n",
    "\n",
    "c, d = cong(a1, b1, a2, b2)\n",
    "c1, c2 = nhan(c, d, a1, b1)\n",
    "print(out(c1, c2))\n",
    "d1, d2 = nhan(c, d, c, d)\n",
    "print(out(d1, d2))\n",
    "\n"
   ]
  }
 ],
 "metadata": {
  "kernelspec": {
   "display_name": "Python 3.10.0 64-bit",
   "language": "python",
   "name": "python3"
  },
  "language_info": {
   "codemirror_mode": {
    "name": "ipython",
    "version": 3
   },
   "file_extension": ".py",
   "mimetype": "text/x-python",
   "name": "python",
   "nbconvert_exporter": "python",
   "pygments_lexer": "ipython3",
   "version": "3.10.0"
  },
  "orig_nbformat": 4,
  "vscode": {
   "interpreter": {
    "hash": "27f6fea6f47ae512550f0b8facdbd035a93e1dd89633f7bf2dd00a2502c71d0d"
   }
  }
 },
 "nbformat": 4,
 "nbformat_minor": 2
}
