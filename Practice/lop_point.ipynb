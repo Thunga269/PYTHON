{
 "cells": [
  {
   "cell_type": "markdown",
   "metadata": {},
   "source": [
    "Nên dùng class "
   ]
  },
  {
   "cell_type": "code",
   "execution_count": 1,
   "metadata": {},
   "outputs": [],
   "source": [
    "import math"
   ]
  },
  {
   "cell_type": "code",
   "execution_count": 2,
   "metadata": {},
   "outputs": [],
   "source": [
    "class Point:\n",
    "    def __init__(self, x, y):\n",
    "        self.x = x\n",
    "        self.y = y\n",
    "    def distance(self, other):\n",
    "        return \"%.4f\" % math.sqrt((self.x-other.x)**2+(self.y-other.y)**2)\n",
    "    "
   ]
  },
  {
   "cell_type": "code",
   "execution_count": 4,
   "metadata": {},
   "outputs": [
    {
     "name": "stdout",
     "output_type": "stream",
     "text": [
      "193.0648\n"
     ]
    }
   ],
   "source": [
    "p1 = Point(0, 199)\n",
    "p2 = Point(5, 6)\n",
    "print(p1.distance(p2))"
   ]
  },
  {
   "cell_type": "markdown",
   "metadata": {},
   "source": [
    "cach 2"
   ]
  },
  {
   "cell_type": "code",
   "execution_count": 5,
   "metadata": {},
   "outputs": [
    {
     "name": "stdout",
     "output_type": "stream",
     "text": [
      "193.0648\n"
     ]
    }
   ],
   "source": [
    "x1, y1, x2, y2 = 0, 199, 5, 6\n",
    "print(\"%.4f\" % math.sqrt((x1-x2)**2+(y1-y2)**2))"
   ]
  },
  {
   "cell_type": "markdown",
   "metadata": {},
   "source": [
    "Lớp hình chữ nhật: dài, rộng, màu sắc"
   ]
  },
  {
   "cell_type": "code",
   "execution_count": 6,
   "metadata": {},
   "outputs": [],
   "source": [
    "class rec:\n",
    "    def __init__(self, w, h, c):\n",
    "        self.w = w\n",
    "        self.h = h\n",
    "        self.c = c\n",
    "\n",
    "    def area(self):\n",
    "        return self.w*self.h\n",
    "    def perimeter(self):\n",
    "        return (self.w+self.h)*2"
   ]
  },
  {
   "cell_type": "code",
   "execution_count": 7,
   "metadata": {},
   "outputs": [
    {
     "data": {
      "text/plain": [
       "20"
      ]
     },
     "execution_count": 7,
     "metadata": {},
     "output_type": "execute_result"
    }
   ],
   "source": [
    "rec(10, 2, \"RED\").area()"
   ]
  },
  {
   "cell_type": "code",
   "execution_count": 8,
   "metadata": {},
   "outputs": [
    {
     "data": {
      "text/plain": [
       "24"
      ]
     },
     "execution_count": 8,
     "metadata": {},
     "output_type": "execute_result"
    }
   ],
   "source": [
    "rec(10, 2, \"RED\").perimeter()"
   ]
  },
  {
   "cell_type": "markdown",
   "metadata": {},
   "source": [
    "Lớp triangle 1: input mỗi dòng có thể ko đủ 6 số\n",
    "3\n",
    "0 0 0 5 0 199\n",
    "1 1 1 1 1 1\n",
    "0 0 0 5 5 0"
   ]
  },
  {
   "cell_type": "code",
   "execution_count": 19,
   "metadata": {},
   "outputs": [],
   "source": [
    "class Point:\n",
    "    def __init__(self, x, y):\n",
    "        self.x = x\n",
    "        self.y = y\n",
    "    def distance(self, other):\n",
    "        return math.sqrt((self.x-other.x)**2+(self.y-other.y)**2)\n",
    "class triangle:\n",
    "    def __init__(self, a, b, c) :\n",
    "        self.a = a\n",
    "        self.b = b\n",
    "        self.c = c\n",
    "        \n",
    "    def perimeter(self):\n",
    "        if max(self.a, self.b, self.c)*2 >= (self.a + self.b + self.c):\n",
    "            return \"INVALID\"\n",
    "        return \"%.3f\" % (self.a + self.b + self.c)\n",
    "\n",
    "    def area(self):\n",
    "        if max(self.a, self.b, self.c)*2 >= (self.a + self.b + self.c):\n",
    "            return \"INVALID\"\n",
    "        return \"%.3f\"%(math.sqrt((self.a+self.b+self.c)*(self.a-self.b+self.c)*(self.a+self.b-self.c)*(-self.a+self.b+self.c))/4)"
   ]
  },
  {
   "cell_type": "code",
   "execution_count": 21,
   "metadata": {},
   "outputs": [
    {
     "name": "stdout",
     "output_type": "stream",
     "text": [
      "INVALID\n",
      "INVALID\n",
      "INVALID\n",
      "INVALID\n",
      "17.071\n",
      "12.500\n"
     ]
    }
   ],
   "source": [
    "s=[]\n",
    "for i in range(int(input())):\n",
    "    s += [int(x) for x in input().split()] \n",
    "\n",
    "for j in range(0, len(s), 6):\n",
    "    a = Point(s[j], s[j+1])\n",
    "    b = Point(s[j+2], s[j+3])\n",
    "    c = Point(s[j+4], s[j+5])\n",
    "    A = a.distance(b)\n",
    "    B = c.distance(b)\n",
    "    C = a.distance(c)\n",
    "    Tr = triangle(A, B, C)\n",
    "    print(Tr.perimeter())\n",
    "    print(Tr.area())\n"
   ]
  },
  {
   "cell_type": "markdown",
   "metadata": {},
   "source": [
    "Cach 2"
   ]
  },
  {
   "cell_type": "code",
   "execution_count": 14,
   "metadata": {},
   "outputs": [],
   "source": [
    "def distance(x1, y1, x2, y2):\n",
    "    return math.sqrt((x1-x2)**2+(y1-y2)**2)\n",
    "    \n",
    "def check(a, b, c):\n",
    "    if max(a, b, c)*2 >= (a+b+c): return False\n",
    "    return True\n",
    "\n",
    "def perimeter(a, b, c):\n",
    "    return \"%.3f\"%(a+b+c)\n",
    "\n",
    "def area(a, b, c):\n",
    "    #1/2*can[(a+b+c)*(a+b-c)*(-a+b+c)*(a-b+c)]\n",
    "    return \"%.3f\" % (math.sqrt((a+b+c)*(a+b-c)*(a-b+c)*(-a+b+c))/4)"
   ]
  },
  {
   "cell_type": "code",
   "execution_count": 16,
   "metadata": {},
   "outputs": [
    {
     "name": "stdout",
     "output_type": "stream",
     "text": [
      "INVALID\n",
      "INVALID\n",
      "12.500\n",
      "17.071\n"
     ]
    }
   ],
   "source": [
    "s=[]\n",
    "for i in range(int(input())):\n",
    "    s += [int(x) for x in input().split()] \n",
    "\n",
    "for j in range(0, len(s), 6):\n",
    "    a = distance(s[j], s[j+1], s[j+2], s[j+3])\n",
    "    b = distance(s[j+2], s[j+3], s[j+4], s[j+5])\n",
    "    c = distance(s[j+4], s[j+5], s[j], s[j+1])\n",
    "    if check(a, b, c):\n",
    "        print(area(a, b, c))\n",
    "        print(perimeter(a, b, c))\n",
    "    else:\n",
    "        print(\"INVALID\")\n",
    "    # print(s[j:j+6])\n",
    "    "
   ]
  }
 ],
 "metadata": {
  "kernelspec": {
   "display_name": "Python 3.10.0 64-bit",
   "language": "python",
   "name": "python3"
  },
  "language_info": {
   "codemirror_mode": {
    "name": "ipython",
    "version": 3
   },
   "file_extension": ".py",
   "mimetype": "text/x-python",
   "name": "python",
   "nbconvert_exporter": "python",
   "pygments_lexer": "ipython3",
   "version": "3.10.0"
  },
  "orig_nbformat": 4,
  "vscode": {
   "interpreter": {
    "hash": "27f6fea6f47ae512550f0b8facdbd035a93e1dd89633f7bf2dd00a2502c71d0d"
   }
  }
 },
 "nbformat": 4,
 "nbformat_minor": 2
}
