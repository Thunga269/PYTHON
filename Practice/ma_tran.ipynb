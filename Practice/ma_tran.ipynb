{
 "cells": [
  {
   "cell_type": "markdown",
   "metadata": {},
   "source": [
    "Cách nhập ma trận"
   ]
  },
  {
   "cell_type": "code",
   "execution_count": 1,
   "metadata": {},
   "outputs": [
    {
     "data": {
      "text/plain": [
       "[[1, 2, 3], [4, 3, 2], [1, 5, 6]]"
      ]
     },
     "execution_count": 1,
     "metadata": {},
     "output_type": "execute_result"
    }
   ],
   "source": [
    "n = int(input())\n",
    "matran = []\n",
    "for i in range(n):\n",
    "    a = [int(x) for x in input().split()]\n",
    "    matran.append(a)\n",
    "\n",
    "matran"
   ]
  },
  {
   "cell_type": "code",
   "execution_count": 3,
   "metadata": {},
   "outputs": [
    {
     "name": "stdout",
     "output_type": "stream",
     "text": [
      "[1, 2, 3]\n",
      "[4, 3, 2]\n",
      "[1, 5, 6]\n"
     ]
    }
   ],
   "source": [
    "for i in matran:\n",
    "    print(i)"
   ]
  },
  {
   "cell_type": "markdown",
   "metadata": {},
   "source": [
    "Đường chéo chính\n",
    "Nửa trên i < j;\n",
    "Nửa dưới i > j"
   ]
  },
  {
   "cell_type": "code",
   "execution_count": 2,
   "metadata": {},
   "outputs": [
    {
     "name": "stdout",
     "output_type": "stream",
     "text": [
      "2\n",
      "3\n",
      "2\n"
     ]
    }
   ],
   "source": [
    "for i in range(n):\n",
    "    for j in range(n):\n",
    "        if i < j:\n",
    "            print(matran[i][j])"
   ]
  },
  {
   "cell_type": "markdown",
   "metadata": {},
   "source": [
    "Đường chéo phụ\n",
    "Nửa trên: (i+j) < (n-1)\n",
    "Nửa dưới: (i+j) > (n-1)"
   ]
  },
  {
   "cell_type": "markdown",
   "metadata": {},
   "source": [
    "Số nguyên tố LN trong ma trận\n",
    "Cho ma trận cỡ N x M"
   ]
  },
  {
   "cell_type": "code",
   "execution_count": 7,
   "metadata": {},
   "outputs": [],
   "source": [
    "import math\n",
    "def prime(n):\n",
    "    if n<2: return False\n",
    "    for i in range(2, int(math.sqrt(n))+1):\n",
    "        if n%2==0: return False\n",
    "    return True"
   ]
  },
  {
   "cell_type": "code",
   "execution_count": 8,
   "metadata": {},
   "outputs": [
    {
     "name": "stdout",
     "output_type": "stream",
     "text": [
      "5\n",
      "Vi tri [1][1]\n"
     ]
    }
   ],
   "source": [
    "N, M = [int(x) for x in input().split()]\n",
    "m = -19999\n",
    "matran = []\n",
    "for i in range(N):\n",
    "    a = [int(x) for x in input().split()]\n",
    "    matran.append(a)\n",
    "    for j in a:\n",
    "        if prime(j): m = max(m, j)\n",
    "print(m)\n",
    "for i in range(N):\n",
    "    for j in range(M):\n",
    "        if matran[i][j]==m:\n",
    "            print(\"Vi tri [%d][%d]\" %(i, j))\n"
   ]
  },
  {
   "cell_type": "markdown",
   "metadata": {},
   "source": [
    "Biến đổi về ma trận vuông\n",
    "ma trận N x M, thứ tự hàng tính từ 1\n",
    "N>M bỏ hàng lẻ cho đến khi N = M\n",
    "N<M bỏ cột chẵn "
   ]
  },
  {
   "cell_type": "code",
   "execution_count": 14,
   "metadata": {},
   "outputs": [
    {
     "name": "stdout",
     "output_type": "stream",
     "text": [
      "2 7 4 3 \n",
      "6 2 7 2 \n",
      "7 2 9 1 \n",
      "9 9 0 7 \n"
     ]
    }
   ],
   "source": [
    "n, m = map(int, input().split())\n",
    "N = n\n",
    "M = m\n",
    "a = []\n",
    "for i in range(n):\n",
    "    a.append([int(x) for x in input().split()])\n",
    "if n>m:\n",
    "    for i in range(n):\n",
    "        if i%2==0 and N!=M:\n",
    "            N-=1\n",
    "            continue\n",
    "        for j in range(m):\n",
    "            print(a[i][j], end = \" \")\n",
    "        print()\n",
    "elif n<m:\n",
    "    for i in range(n):\n",
    "        M=m\n",
    "        for j in range(m):\n",
    "            if j%2!=0 and N<M:\n",
    "                M-=1\n",
    "            else: print(a[i][j], end = \" \")\n",
    "        print()"
   ]
  },
  {
   "cell_type": "markdown",
   "metadata": {},
   "source": [
    "Tính tich của a (nxm) với ma trận chuyển vị của a"
   ]
  },
  {
   "cell_type": "code",
   "execution_count": 21,
   "metadata": {},
   "outputs": [
    {
     "data": {
      "text/plain": [
       "[[1, 3, 4], [2, 4, 1]]"
      ]
     },
     "execution_count": 21,
     "metadata": {},
     "output_type": "execute_result"
    }
   ],
   "source": [
    "a = [[1, 2], \n",
    "    [3, 4], \n",
    "    [4, 1]]\n",
    "\n",
    "n, m  = 3, 2\n",
    "transposed_a = []\n",
    "for i in range(m):\n",
    "    b=[]\n",
    "    for j in range(n):\n",
    "        b.append(a[j][i])\n",
    "    transposed_a.append(b)\n",
    "transposed_a\n"
   ]
  },
  {
   "cell_type": "code",
   "execution_count": 22,
   "metadata": {},
   "outputs": [
    {
     "data": {
      "text/plain": [
       "[[22, 52, 39], [22, 52, 39], [22, 52, 39]]"
      ]
     },
     "execution_count": 22,
     "metadata": {},
     "output_type": "execute_result"
    }
   ],
   "source": [
    "def multi(a, b):\n",
    "    c = [[0]*n]*n\n",
    "    for i in range(n):\n",
    "        for j in range(n):\n",
    "            for k in range(m):\n",
    "                c[i][j] += a[i][k]*b[k][j]\n",
    "    return c\n",
    "multi(a, transposed_a)"
   ]
  }
 ],
 "metadata": {
  "kernelspec": {
   "display_name": "Python 3.10.0 64-bit",
   "language": "python",
   "name": "python3"
  },
  "language_info": {
   "codemirror_mode": {
    "name": "ipython",
    "version": 3
   },
   "file_extension": ".py",
   "mimetype": "text/x-python",
   "name": "python",
   "nbconvert_exporter": "python",
   "pygments_lexer": "ipython3",
   "version": "3.10.0"
  },
  "orig_nbformat": 4,
  "vscode": {
   "interpreter": {
    "hash": "27f6fea6f47ae512550f0b8facdbd035a93e1dd89633f7bf2dd00a2502c71d0d"
   }
  }
 },
 "nbformat": 4,
 "nbformat_minor": 2
}
